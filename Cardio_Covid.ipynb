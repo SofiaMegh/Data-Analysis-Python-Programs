{
  "nbformat": 4,
  "nbformat_minor": 0,
  "metadata": {
    "colab": {
      "provenance": [],
      "mount_file_id": "1k22nv2F6Nib5EzYzIY9xMLjC1WEECIkm",
      "authorship_tag": "ABX9TyNK3W0J46R+bEMnS2Y6mspD",
      "include_colab_link": true
    },
    "kernelspec": {
      "name": "python3",
      "display_name": "Python 3"
    },
    "language_info": {
      "name": "python"
    }
  },
  "cells": [
    {
      "cell_type": "markdown",
      "metadata": {
        "id": "view-in-github",
        "colab_type": "text"
      },
      "source": [
        "<a href=\"https://colab.research.google.com/github/SofiaMegh/SofiaMegh/blob/main/Cardio_Covid.ipynb\" target=\"_parent\"><img src=\"https://colab.research.google.com/assets/colab-badge.svg\" alt=\"Open In Colab\"/></a>"
      ]
    },
    {
      "cell_type": "code",
      "execution_count": 1,
      "metadata": {
        "colab": {
          "base_uri": "https://localhost:8080/",
          "height": 73
        },
        "id": "NLy9ttS8WBOK",
        "outputId": "de90b9bd-2599-4741-b127-45bc0d187c56"
      },
      "outputs": [
        {
          "output_type": "display_data",
          "data": {
            "text/plain": [
              "<IPython.core.display.HTML object>"
            ],
            "text/html": [
              "\n",
              "     <input type=\"file\" id=\"files-17b0a711-63a1-4209-b926-849ddf1adffa\" name=\"files[]\" multiple disabled\n",
              "        style=\"border:none\" />\n",
              "     <output id=\"result-17b0a711-63a1-4209-b926-849ddf1adffa\">\n",
              "      Upload widget is only available when the cell has been executed in the\n",
              "      current browser session. Please rerun this cell to enable.\n",
              "      </output>\n",
              "      <script>// Copyright 2017 Google LLC\n",
              "//\n",
              "// Licensed under the Apache License, Version 2.0 (the \"License\");\n",
              "// you may not use this file except in compliance with the License.\n",
              "// You may obtain a copy of the License at\n",
              "//\n",
              "//      http://www.apache.org/licenses/LICENSE-2.0\n",
              "//\n",
              "// Unless required by applicable law or agreed to in writing, software\n",
              "// distributed under the License is distributed on an \"AS IS\" BASIS,\n",
              "// WITHOUT WARRANTIES OR CONDITIONS OF ANY KIND, either express or implied.\n",
              "// See the License for the specific language governing permissions and\n",
              "// limitations under the License.\n",
              "\n",
              "/**\n",
              " * @fileoverview Helpers for google.colab Python module.\n",
              " */\n",
              "(function(scope) {\n",
              "function span(text, styleAttributes = {}) {\n",
              "  const element = document.createElement('span');\n",
              "  element.textContent = text;\n",
              "  for (const key of Object.keys(styleAttributes)) {\n",
              "    element.style[key] = styleAttributes[key];\n",
              "  }\n",
              "  return element;\n",
              "}\n",
              "\n",
              "// Max number of bytes which will be uploaded at a time.\n",
              "const MAX_PAYLOAD_SIZE = 100 * 1024;\n",
              "\n",
              "function _uploadFiles(inputId, outputId) {\n",
              "  const steps = uploadFilesStep(inputId, outputId);\n",
              "  const outputElement = document.getElementById(outputId);\n",
              "  // Cache steps on the outputElement to make it available for the next call\n",
              "  // to uploadFilesContinue from Python.\n",
              "  outputElement.steps = steps;\n",
              "\n",
              "  return _uploadFilesContinue(outputId);\n",
              "}\n",
              "\n",
              "// This is roughly an async generator (not supported in the browser yet),\n",
              "// where there are multiple asynchronous steps and the Python side is going\n",
              "// to poll for completion of each step.\n",
              "// This uses a Promise to block the python side on completion of each step,\n",
              "// then passes the result of the previous step as the input to the next step.\n",
              "function _uploadFilesContinue(outputId) {\n",
              "  const outputElement = document.getElementById(outputId);\n",
              "  const steps = outputElement.steps;\n",
              "\n",
              "  const next = steps.next(outputElement.lastPromiseValue);\n",
              "  return Promise.resolve(next.value.promise).then((value) => {\n",
              "    // Cache the last promise value to make it available to the next\n",
              "    // step of the generator.\n",
              "    outputElement.lastPromiseValue = value;\n",
              "    return next.value.response;\n",
              "  });\n",
              "}\n",
              "\n",
              "/**\n",
              " * Generator function which is called between each async step of the upload\n",
              " * process.\n",
              " * @param {string} inputId Element ID of the input file picker element.\n",
              " * @param {string} outputId Element ID of the output display.\n",
              " * @return {!Iterable<!Object>} Iterable of next steps.\n",
              " */\n",
              "function* uploadFilesStep(inputId, outputId) {\n",
              "  const inputElement = document.getElementById(inputId);\n",
              "  inputElement.disabled = false;\n",
              "\n",
              "  const outputElement = document.getElementById(outputId);\n",
              "  outputElement.innerHTML = '';\n",
              "\n",
              "  const pickedPromise = new Promise((resolve) => {\n",
              "    inputElement.addEventListener('change', (e) => {\n",
              "      resolve(e.target.files);\n",
              "    });\n",
              "  });\n",
              "\n",
              "  const cancel = document.createElement('button');\n",
              "  inputElement.parentElement.appendChild(cancel);\n",
              "  cancel.textContent = 'Cancel upload';\n",
              "  const cancelPromise = new Promise((resolve) => {\n",
              "    cancel.onclick = () => {\n",
              "      resolve(null);\n",
              "    };\n",
              "  });\n",
              "\n",
              "  // Wait for the user to pick the files.\n",
              "  const files = yield {\n",
              "    promise: Promise.race([pickedPromise, cancelPromise]),\n",
              "    response: {\n",
              "      action: 'starting',\n",
              "    }\n",
              "  };\n",
              "\n",
              "  cancel.remove();\n",
              "\n",
              "  // Disable the input element since further picks are not allowed.\n",
              "  inputElement.disabled = true;\n",
              "\n",
              "  if (!files) {\n",
              "    return {\n",
              "      response: {\n",
              "        action: 'complete',\n",
              "      }\n",
              "    };\n",
              "  }\n",
              "\n",
              "  for (const file of files) {\n",
              "    const li = document.createElement('li');\n",
              "    li.append(span(file.name, {fontWeight: 'bold'}));\n",
              "    li.append(span(\n",
              "        `(${file.type || 'n/a'}) - ${file.size} bytes, ` +\n",
              "        `last modified: ${\n",
              "            file.lastModifiedDate ? file.lastModifiedDate.toLocaleDateString() :\n",
              "                                    'n/a'} - `));\n",
              "    const percent = span('0% done');\n",
              "    li.appendChild(percent);\n",
              "\n",
              "    outputElement.appendChild(li);\n",
              "\n",
              "    const fileDataPromise = new Promise((resolve) => {\n",
              "      const reader = new FileReader();\n",
              "      reader.onload = (e) => {\n",
              "        resolve(e.target.result);\n",
              "      };\n",
              "      reader.readAsArrayBuffer(file);\n",
              "    });\n",
              "    // Wait for the data to be ready.\n",
              "    let fileData = yield {\n",
              "      promise: fileDataPromise,\n",
              "      response: {\n",
              "        action: 'continue',\n",
              "      }\n",
              "    };\n",
              "\n",
              "    // Use a chunked sending to avoid message size limits. See b/62115660.\n",
              "    let position = 0;\n",
              "    do {\n",
              "      const length = Math.min(fileData.byteLength - position, MAX_PAYLOAD_SIZE);\n",
              "      const chunk = new Uint8Array(fileData, position, length);\n",
              "      position += length;\n",
              "\n",
              "      const base64 = btoa(String.fromCharCode.apply(null, chunk));\n",
              "      yield {\n",
              "        response: {\n",
              "          action: 'append',\n",
              "          file: file.name,\n",
              "          data: base64,\n",
              "        },\n",
              "      };\n",
              "\n",
              "      let percentDone = fileData.byteLength === 0 ?\n",
              "          100 :\n",
              "          Math.round((position / fileData.byteLength) * 100);\n",
              "      percent.textContent = `${percentDone}% done`;\n",
              "\n",
              "    } while (position < fileData.byteLength);\n",
              "  }\n",
              "\n",
              "  // All done.\n",
              "  yield {\n",
              "    response: {\n",
              "      action: 'complete',\n",
              "    }\n",
              "  };\n",
              "}\n",
              "\n",
              "scope.google = scope.google || {};\n",
              "scope.google.colab = scope.google.colab || {};\n",
              "scope.google.colab._files = {\n",
              "  _uploadFiles,\n",
              "  _uploadFilesContinue,\n",
              "};\n",
              "})(self);\n",
              "</script> "
            ]
          },
          "metadata": {}
        },
        {
          "output_type": "stream",
          "name": "stdout",
          "text": [
            "Saving data.zip to data (1).zip\n"
          ]
        }
      ],
      "source": [
        "from google.colab import files\n",
        "uploaded = files.upload()\n"
      ]
    },
    {
      "cell_type": "code",
      "source": [
        "import pandas as pd\n",
        "df = pd.read_csv('/content/cardio_base.csv')"
      ],
      "metadata": {
        "id": "PepvDGPdZSDS"
      },
      "execution_count": 12,
      "outputs": []
    },
    {
      "cell_type": "code",
      "source": [
        "import pandas as pd\n",
        "\n",
        "# Load the dataset (replace 'path_to_csv' with the actual path to the CSV file)\n",
        "df = pd.read_csv(\"cardio_base.csv\")\n",
        "\n",
        "# Calculate age in years rounded down\n",
        "df['age_years'] = df['age'] // 365\n",
        "\n",
        "# Group by age_years and calculate the average weight for each age group\n",
        "average_weight_by_age = df.groupby('age_years')['weight'].mean()\n",
        "\n",
        "# Find the age group with the highest and lowest average weight\n",
        "highest_avg_weight_age_group = average_weight_by_age.idxmax()\n",
        "lowest_avg_weight_age_group = average_weight_by_age.idxmin()\n",
        "\n",
        "# Calculate the weight difference between the age groups\n",
        "weight_difference = average_weight_by_age[highest_avg_weight_age_group] - average_weight_by_age[lowest_avg_weight_age_group]\n",
        "\n",
        "print(\"Age group with the highest average weight:\", highest_avg_weight_age_group)\n",
        "print(\"Age group with the lowest average weight:\", lowest_avg_weight_age_group)\n",
        "print(\"Weight difference between the age group with the highest average weight and the age group with the lowest weight:\", weight_difference)\n",
        "\n",
        "# Calculate the percentage weight difference\n",
        "total_avg_weight = df['weight'].mean()\n",
        "weight_difference_percentage = (weight_difference / total_avg_weight) * 100\n",
        "\n",
        "print(\"Weight difference between the age group with the highest average weight and the age group with the lowest weight:\", weight_difference)\n",
        "print(\"Percentage weight difference:\", weight_difference_percentage)\n"
      ],
      "metadata": {
        "colab": {
          "base_uri": "https://localhost:8080/"
        },
        "id": "Ar4HlWzVb5QS",
        "outputId": "484a38b0-a96a-4fc6-aee4-0fb9ca03af33"
      },
      "execution_count": 17,
      "outputs": [
        {
          "output_type": "stream",
          "name": "stdout",
          "text": [
            "Age group with the highest average weight: 63\n",
            "Age group with the lowest average weight: 30\n",
            "Weight difference between the age group with the highest average weight and the age group with the lowest weight: 16.873720760233923\n",
            "Weight difference between the age group with the highest average weight and the age group with the lowest weight: 16.873720760233923\n",
            "Percentage weight difference: 22.739119817137908\n"
          ]
        }
      ]
    },
    {
      "cell_type": "code",
      "source": [
        "import pandas as pd\n",
        "\n",
        "# Load the dataset (replace 'path_to_csv' with the actual path to the CSV file)\n",
        "df = pd.read_csv(\"cardio_base.csv\")\n",
        "\n",
        "# Calculate age in years rounded down\n",
        "df['age_years'] = df['age'] // 365\n",
        "\n",
        "# Determine if each person is over 50\n",
        "df['over_50'] = df['age_years'] > 50\n",
        "\n",
        "# Group by over_50 and calculate the average cholesterol level for each group\n",
        "average_cholesterol_by_age_group = df.groupby('over_50')['cholesterol'].mean()\n",
        "\n",
        "# Determine if people over 50 have higher cholesterol levels than the rest\n",
        "over_50_avg_cholesterol = average_cholesterol_by_age_group[True]\n",
        "under_50_avg_cholesterol = average_cholesterol_by_age_group[False]\n",
        "\n",
        "# Calculate the percentage difference\n",
        "percentage_difference = ((over_50_avg_cholesterol - under_50_avg_cholesterol) / under_50_avg_cholesterol) * 100\n",
        "\n",
        "if percentage_difference > 0:\n",
        "    print(f\"People over 50 have {percentage_difference:.2f}% higher cholesterol levels than the rest.\")\n",
        "else:\n",
        "    print(f\"People over 50 have {abs(percentage_difference):.2f}% lower cholesterol levels than the rest.\")\n"
      ],
      "metadata": {
        "colab": {
          "base_uri": "https://localhost:8080/"
        },
        "id": "5QtLHtsudS0c",
        "outputId": "61475cc6-5db3-46be-9857-4db8198a2a1d"
      },
      "execution_count": 19,
      "outputs": [
        {
          "output_type": "stream",
          "name": "stdout",
          "text": [
            "People over 50 have 14.69% higher cholesterol levels than the rest.\n"
          ]
        }
      ]
    },
    {
      "cell_type": "code",
      "source": [
        "import pandas as pd\n",
        "\n",
        "# Load the dataset (replace 'path_to_csv' with the actual path to the CSV file)\n",
        "df = pd.read_csv(\"cardio_base.csv\")\n",
        "\n",
        "# Calculate the smoking prevalence ratio between men and women\n",
        "smoking_ratio_men_women = df[df['gender'] == 2]['smoke'].mean() / df[df['gender'] == 1]['smoke'].mean()\n",
        "\n",
        "if smoking_ratio_men_women > 1:\n",
        "    print(f\"Yes, men are {smoking_ratio_men_women:.2f} times more likely to be smokers than women.\")\n",
        "else:\n",
        "    print(\"No, men are not more likely to be smokers than women.\")\n"
      ],
      "metadata": {
        "colab": {
          "base_uri": "https://localhost:8080/"
        },
        "id": "9JBkq_R5dwqT",
        "outputId": "214c1398-8f24-475c-ac26-e07db9364f3f"
      },
      "execution_count": 20,
      "outputs": [
        {
          "output_type": "stream",
          "name": "stdout",
          "text": [
            "Yes, men are 12.26 times more likely to be smokers than women.\n"
          ]
        }
      ]
    },
    {
      "cell_type": "code",
      "source": [
        "import pandas as pd\n",
        "\n",
        "# Load the dataset (replace 'path_to_csv' with the actual path to the CSV file)\n",
        "df = pd.read_csv(\"cardio_base.csv\")\n",
        "\n",
        "# Calculate the height of the tallest 1% of people\n",
        "tallest_1_percent_height = df['height'].quantile(0.99)\n",
        "\n",
        "print(\"The height of the tallest 1% of people:\", tallest_1_percent_height, \"cm\")\n"
      ],
      "metadata": {
        "colab": {
          "base_uri": "https://localhost:8080/"
        },
        "id": "KSRoi595eBkc",
        "outputId": "9ec2c6f7-6651-4047-f7d9-1ebf773d2ff5"
      },
      "execution_count": 21,
      "outputs": [
        {
          "output_type": "stream",
          "name": "stdout",
          "text": [
            "The height of the tallest 1% of people: 184.0 cm\n"
          ]
        }
      ]
    },
    {
      "cell_type": "code",
      "source": [
        "import pandas as pd\n",
        "\n",
        "# Load the dataset (replace 'path_to_csv' with the actual path to the CSV file)\n",
        "df = pd.read_csv(\"cardio_base.csv\")\n",
        "\n",
        "# Calculate the Spearman rank correlation matrix\n",
        "spearman_corr = df.corr(method='spearman')\n",
        "\n",
        "# Exclude self-correlation\n",
        "spearman_corr = spearman_corr.mask(np.eye(len(spearman_corr), dtype=bool))\n",
        "\n",
        "# Find the pair of features with the highest Spearman rank correlation\n",
        "max_corr_pair = spearman_corr.stack().idxmax()\n",
        "max_corr_features = [max_corr_pair[0], max_corr_pair[1]]\n",
        "max_corr_value = spearman_corr.loc[max_corr_pair[0], max_corr_pair[1]]\n",
        "\n",
        "print(\"The two features with the highest Spearman rank correlation are:\", max_corr_features)\n",
        "print(\"Spearman rank correlation coefficient:\", max_corr_value)\n"
      ],
      "metadata": {
        "colab": {
          "base_uri": "https://localhost:8080/"
        },
        "id": "lIm75PNzepd2",
        "outputId": "fb9448b9-87a6-4e44-e8ac-1a203c308ecd"
      },
      "execution_count": 25,
      "outputs": [
        {
          "output_type": "stream",
          "name": "stdout",
          "text": [
            "The two features with the highest Spearman rank correlation are: ['ap_hi', 'ap_lo']\n",
            "Spearman rank correlation coefficient: 0.7354361051379777\n"
          ]
        }
      ]
    },
    {
      "cell_type": "code",
      "source": [
        "import pandas as pd\n",
        "\n",
        "# Load the dataset (replace 'path_to_csv' with the actual path to the CSV file)\n",
        "df = pd.read_csv(\"cardio_base.csv\")\n",
        "\n",
        "# Calculate the average height and standard deviation\n",
        "average_height = df['height'].mean()\n",
        "std_dev_height = df['height'].std()\n",
        "\n",
        "# Calculate the cutoff points for being more than 2 standard deviations away from the average height\n",
        "cutoff_lower = average_height - 2 * std_dev_height\n",
        "cutoff_upper = average_height + 2 * std_dev_height\n",
        "\n",
        "# Count the number of people who are more than 2 standard deviations away from the average height\n",
        "num_outliers = df[(df['height'] < cutoff_lower) | (df['height'] > cutoff_upper)].shape[0]\n",
        "\n",
        "# Calculate the percentage of people who are outliers\n",
        "percentage_outliers = (num_outliers / df.shape[0]) * 100\n",
        "\n",
        "print(f\"The percentage of people who are more than 2 standard deviations away from the average height: {percentage_outliers:.2f}%\")\n"
      ],
      "metadata": {
        "colab": {
          "base_uri": "https://localhost:8080/"
        },
        "id": "YH9vpMN4fJYr",
        "outputId": "6b5986e0-4acd-4bec-e74c-82e7f058c914"
      },
      "execution_count": 26,
      "outputs": [
        {
          "output_type": "stream",
          "name": "stdout",
          "text": [
            "The percentage of people who are more than 2 standard deviations away from the average height: 3.34%\n"
          ]
        }
      ]
    },
    {
      "cell_type": "code",
      "source": [
        "import pandas as pd\n",
        "\n",
        "# Load the first dataset\n",
        "df1 = pd.read_csv(\"/content/cardio_base.csv\")\n",
        "\n",
        "# Load the second dataset\n",
        "df2 = pd.read_csv(\"/content/cardio_alco.csv\")\n",
        "\n",
        "# Concatenate the two datasets vertically\n",
        "merged_df = pd.concat([df1, df2], ignore_index=True)\n",
        "\n",
        "# Now you can perform analysis on the merged DataFrame\n",
        "# For example, calculate the average of a column:\n",
        "# average_column_value = merged_df['Column'].mean()\n",
        "\n",
        "# Or perform any other analysis or answer questions based on the merged data\n",
        "\n",
        "# Finally, you can save the merged DataFrame to a new CSV file if needed\n",
        "# merged_df.to_csv(\"merged_dataset.csv\", index=False)\n"
      ],
      "metadata": {
        "id": "1OhKIB9Thsvr"
      },
      "execution_count": 30,
      "outputs": []
    },
    {
      "cell_type": "code",
      "source": [
        "import pandas as pd\n",
        "\n",
        "# Load the merged dataset\n",
        "merged_df = pd.concat([df1, df2], ignore_index=True)\n",
        "\n",
        "# Filter the merged dataset to include only individuals over 50 years old\n",
        "over_50_df = merged_df[merged_df['age'] > 50]\n",
        "\n",
        "# Drop rows where alcohol consumption information is missing\n",
        "over_50_with_alcohol_df = over_50_df.dropna(subset=['id;alco'])\n",
        "\n",
        "# Calculate the percentage of the population over 50 years old who consume alcohol\n",
        "percentage_over_50_with_alcohol = (over_50_with_alcohol_df.shape[0] / over_50_df.shape[0]) * 100\n",
        "\n",
        "print(f\"The percentage of the population over 50 years old who consume alcohol: {percentage_over_50_with_alcohol:.2f}%\")\n"
      ],
      "metadata": {
        "colab": {
          "base_uri": "https://localhost:8080/"
        },
        "id": "xd-t8EShiXAl",
        "outputId": "a2dd4c70-26fb-4d75-fee2-bf3c70012ca3"
      },
      "execution_count": 34,
      "outputs": [
        {
          "output_type": "stream",
          "name": "stdout",
          "text": [
            "The percentage of the population over 50 years old who consume alcohol: 0.00%\n"
          ]
        }
      ]
    },
    {
      "cell_type": "code",
      "source": [
        "import pandas as pd\n",
        "\n",
        "# Load the merged dataset\n",
        "merged_df = pd.concat([pd.read_csv(\"/content/cardio_base.csv\"), pd.read_csv(\"/content/cardio_alco.csv\")], ignore_index=True)\n",
        "\n",
        "# Filter the merged DataFrame to include only people over 50 years old\n",
        "over_50_df = merged_df[merged_df['age'] > 50]\n",
        "\n",
        "# Filter out rows where alcohol consumption information is missing\n",
        "over_50_with_alcohol_df = over_50_df.dropna(subset=['id;alco'])\n",
        "\n",
        "# Calculate the percentage of people over 50 who consume alcohol\n",
        "percentage_over_50_with_alcohol = (over_50_with_alcohol_df['id;alco'].sum() / len(over_50_df)) * 100\n",
        "\n",
        "print(\"Percentage of the population over 50 years old who consume alcohol:\", percentage_over_50_with_alcohol, \"%\")\n"
      ],
      "metadata": {
        "colab": {
          "base_uri": "https://localhost:8080/"
        },
        "id": "gaNy4NiJjd1a",
        "outputId": "cbcef5a0-2103-4b28-d417-0eec258e7e39"
      },
      "execution_count": 35,
      "outputs": [
        {
          "output_type": "stream",
          "name": "stdout",
          "text": [
            "Percentage of the population over 50 years old who consume alcohol: 0.0 %\n"
          ]
        }
      ]
    },
    {
      "cell_type": "code",
      "source": [
        "import pandas as pd\n",
        "\n",
        "# Load the dataset\n",
        "df = pd.read_csv(\"/content/cardio_base.csv\")\n",
        "\n",
        "# a.) Men have higher blood pressure than women:\n",
        "average_hi_bp_by_gender = df.groupby('gender')['ap_hi'].mean()\n",
        "average_lo_bp_by_gender = df.groupby('gender')['ap_lo'].mean()\n",
        "\n",
        "if (average_hi_bp_by_gender[1] > average_hi_bp_by_gender[2]) and (average_lo_bp_by_gender[1] > average_lo_bp_by_gender[2]):\n",
        "    print(\"Yes, men have higher blood pressure than women.\")\n",
        "else:\n",
        "    print(\"No, men do not have higher blood pressure than women.\")\n",
        "\n",
        "# b.) Individuals with high blood pressure have higher cholesterol levels than individuals with low blood pressure:\n",
        "average_cholesterol_by_hi_bp = df.groupby('ap_hi')['cholesterol'].mean()\n",
        "average_cholesterol_by_lo_bp = df.groupby('ap_lo')['cholesterol'].mean()\n",
        "\n",
        "if (average_cholesterol_by_hi_bp.mean() > average_cholesterol_by_lo_bp.mean()):\n",
        "    print(\"Yes, individuals with high blood pressure have higher cholesterol levels than individuals with low blood pressure.\")\n",
        "else:\n",
        "    print(\"No, individuals with high blood pressure do not have higher cholesterol levels than individuals with low blood pressure.\")\n",
        "\n",
        "# c.) Individuals with high blood pressure weigh less than individuals with low blood pressure:\n",
        "average_weight_by_hi_bp = df.groupby('ap_hi')['weight'].mean()\n",
        "average_weight_by_lo_bp = df.groupby('ap_lo')['weight'].mean()\n",
        "\n",
        "if (average_weight_by_hi_bp.mean() < average_weight_by_lo_bp.mean()):\n",
        "    print(\"Yes, individuals with high blood pressure weigh less than individuals with low blood pressure.\")\n",
        "else:\n",
        "    print(\"No, individuals with high blood pressure do not weigh less than individuals with low blood pressure.\")\n"
      ],
      "metadata": {
        "colab": {
          "base_uri": "https://localhost:8080/"
        },
        "id": "D8YtSP-MmWQY",
        "outputId": "65b313b1-47b0-4f98-88ba-c67b5fe84c2d"
      },
      "execution_count": 39,
      "outputs": [
        {
          "output_type": "stream",
          "name": "stdout",
          "text": [
            "No, men do not have higher blood pressure than women.\n",
            "Yes, individuals with high blood pressure have higher cholesterol levels than individuals with low blood pressure.\n",
            "Yes, individuals with high blood pressure weigh less than individuals with low blood pressure.\n"
          ]
        }
      ]
    },
    {
      "cell_type": "code",
      "source": [
        "import pandas as pd\n",
        "\n",
        "# Load the dataset\n",
        "df = pd.read_csv(\"/content/cardio_base.csv\")\n",
        "\n",
        "# Calculate the average blood pressure for men and women\n",
        "average_hi_bp_by_gender = df.groupby('gender')['ap_hi'].mean()\n",
        "average_lo_bp_by_gender = df.groupby('gender')['ap_lo'].mean()\n",
        "\n",
        "# Check if men have higher blood pressure than women\n",
        "if (average_hi_bp_by_gender[1] > average_hi_bp_by_gender[2]) and (average_lo_bp_by_gender[1] > average_lo_bp_by_gender[2]):\n",
        "    print(\"Yes, men have higher blood pressure than women.\")\n",
        "else:\n",
        "    print(\"No, men do not have higher blood pressure than women.\")\n"
      ],
      "metadata": {
        "colab": {
          "base_uri": "https://localhost:8080/"
        },
        "id": "SXNwCOW_oEhb",
        "outputId": "a3050df8-9666-40d8-e9bf-9763bfb7bc15"
      },
      "execution_count": 40,
      "outputs": [
        {
          "output_type": "stream",
          "name": "stdout",
          "text": [
            "No, men do not have higher blood pressure than women.\n"
          ]
        }
      ]
    },
    {
      "cell_type": "code",
      "source": [
        "import pandas as pd\n",
        "\n",
        "# Load the dataset\n",
        "df = pd.read_csv(\"/content/cardio_base.csv\")\n",
        "\n",
        "# Calculate the average blood pressure for smokers and non-smokers\n",
        "average_hi_bp_by_smoking = df.groupby('smoke')['ap_hi'].mean()\n",
        "average_lo_bp_by_smoking = df.groupby('smoke')['ap_lo'].mean()\n",
        "\n",
        "# Check if smokers have higher blood pressure than non-smokers\n",
        "if (average_hi_bp_by_smoking[1] > average_hi_bp_by_smoking[0]) and (average_lo_bp_by_smoking[1] > average_lo_bp_by_smoking[0]):\n",
        "    print(\"Yes, smokers have higher blood pressure than non-smokers.\")\n",
        "else:\n",
        "    print(\"No, smokers do not have higher blood pressure than non-smokers.\")\n"
      ],
      "metadata": {
        "colab": {
          "base_uri": "https://localhost:8080/"
        },
        "id": "8bVjtUHroJyj",
        "outputId": "63b2832a-747a-4d65-b7e8-8e71cfd6697c"
      },
      "execution_count": 41,
      "outputs": [
        {
          "output_type": "stream",
          "name": "stdout",
          "text": [
            "No, smokers do not have higher blood pressure than non-smokers.\n"
          ]
        }
      ]
    },
    {
      "cell_type": "code",
      "source": [
        "import pandas as pd\n",
        "\n",
        "# Load the dataset\n",
        "df = pd.read_csv(\"/content/cardio_base.csv\")\n",
        "\n",
        "# Calculate the average cholesterol levels for smokers and non-smokers\n",
        "average_cholesterol_by_smoking = df.groupby('smoke')['cholesterol'].mean()\n",
        "\n",
        "# Check if smokers have higher cholesterol levels than non-smokers\n",
        "if average_cholesterol_by_smoking[1] > average_cholesterol_by_smoking[0]:\n",
        "    print(\"Yes, smokers have higher cholesterol levels than non-smokers.\")\n",
        "else:\n",
        "    print(\"No, smokers do not have higher cholesterol levels than non-smokers.\")\n"
      ],
      "metadata": {
        "colab": {
          "base_uri": "https://localhost:8080/"
        },
        "id": "3ACipYTyoPv7",
        "outputId": "eade5bfc-3866-4277-ccc3-098e9ddcfd8d"
      },
      "execution_count": 42,
      "outputs": [
        {
          "output_type": "stream",
          "name": "stdout",
          "text": [
            "Yes, smokers have higher cholesterol levels than non-smokers.\n"
          ]
        }
      ]
    },
    {
      "cell_type": "code",
      "source": [
        "import pandas as pd\n",
        "\n",
        "# Load the dataset\n",
        "df = pd.read_csv(\"/content/cardio_base.csv\")\n",
        "\n",
        "# Calculate the average weight for smokers and non-smokers\n",
        "average_weight_by_smoking = df.groupby('smoke')['weight'].mean()\n",
        "\n",
        "# Check if smokers weigh less than non-smokers\n",
        "if average_weight_by_smoking[1] < average_weight_by_smoking[0]:\n",
        "    print(\"Yes, smokers weigh less than non-smokers.\")\n",
        "else:\n",
        "    print(\"No, smokers do not weigh less than non-smokers.\")\n"
      ],
      "metadata": {
        "colab": {
          "base_uri": "https://localhost:8080/"
        },
        "id": "p2yDazadoVTF",
        "outputId": "5b201db3-ce12-4548-816e-70dd29947199"
      },
      "execution_count": 43,
      "outputs": [
        {
          "output_type": "stream",
          "name": "stdout",
          "text": [
            "No, smokers do not weigh less than non-smokers.\n"
          ]
        }
      ]
    },
    {
      "cell_type": "code",
      "source": [
        "import pandas as pd\n",
        "\n",
        "# Load the dataset containing COVID-19 cases for Italy and Germany\n",
        "covid_data = pd.read_csv(\"/content/drive/MyDrive/covid_data.csv\")\n",
        "\n",
        "# Filter the dataset to include only rows for Italy and Germany\n",
        "italy_data = covid_data[covid_data['location'] == 'Italy']\n",
        "germany_data = covid_data[covid_data['location'] == 'Germany']\n",
        "\n",
        "# Calculate the daily difference in confirmed cases between Italy and Germany\n",
        "italy_cases = italy_data.groupby('date')['new_cases'].sum().reset_index()\n",
        "germany_cases = germany_data.groupby('date')['new_cases'].sum().reset_index()\n",
        "\n",
        "difference_confirmed_cases = pd.merge(italy_cases, germany_cases, on='date', suffixes=('_italy', '_germany'))\n",
        "difference_confirmed_cases['difference'] = difference_confirmed_cases['new_cases_italy'] - difference_confirmed_cases['new_cases_germany']\n",
        "\n",
        "# Find the first date where the difference becomes more than 10,000\n",
        "date_difference_10000 = difference_confirmed_cases[difference_confirmed_cases['difference'] > 10000]['date'].min()\n",
        "\n",
        "print(\"The difference in confirmed cases between Italy and Germany became more than 10,000 on:\", date_difference_10000)\n",
        "\n"
      ],
      "metadata": {
        "colab": {
          "base_uri": "https://localhost:8080/"
        },
        "id": "b0VeK599qiIu",
        "outputId": "ac999951-402f-4da9-f2fa-7861ff33c9d8"
      },
      "execution_count": 52,
      "outputs": [
        {
          "output_type": "stream",
          "name": "stdout",
          "text": [
            "The difference in confirmed cases between Italy and Germany became more than 10,000 on: nan\n"
          ]
        }
      ]
    },
    {
      "cell_type": "code",
      "source": [
        "import pandas as pd\n",
        "import numpy as np\n",
        "from scipy.optimize import curve_fit\n",
        "\n",
        "# Load the dataset\n",
        "covid_data = pd.read_csv(\"/content/covid_data.csv\")\n",
        "\n",
        "# Filter data for Italy between 2020-02-28 and 2020-03-20\n",
        "italy_data = covid_data[(covid_data['location'] == 'Italy') & (covid_data['date'] >= '2020-02-28') & (covid_data['date'] <= '2020-03-20')]\n",
        "\n",
        "# Calculate cumulative cases\n",
        "italy_data['cumulative_cases'] = italy_data['new_cases'].cumsum()\n",
        "\n",
        "# Check if cumulative_cases column is empty or contains missing values\n",
        "if italy_data['cumulative_cases'].empty or italy_data['cumulative_cases'].isnull().any():\n",
        "    print(\"Error: Cumulative cases data is empty or contains missing values.\")\n",
        "else:\n",
        "    # Define exponential function\n",
        "    def exponential_func(x, A, B):\n",
        "        return A * np.exp(B * x)\n",
        "\n",
        "    # Fit exponential function\n",
        "    popt, _ = curve_fit(exponential_func, range(len(italy_data)), italy_data['cumulative_cases'])\n",
        "\n",
        "    # Evaluate on 2020-03-20\n",
        "    day_passed_0320 = (pd.to_datetime('2020-03-20') - pd.to_datetime('2020-02-28')).days\n",
        "    exponential_value_0320 = exponential_func(day_passed_0320, *popt)\n",
        "\n",
        "    # Real cases on 2020-03-20\n",
        "    real_cases_0320 = italy_data[italy_data['date'] == '2020-03-20']['cumulative_cases'].values[0]\n",
        "\n",
        "    # Calculate difference\n",
        "    difference = exponential_value_0320 - real_cases_0320\n",
        "\n",
        "    print(\"Difference between the exponential curve and the total number of real cases on 2020-03-20:\", difference)\n"
      ],
      "metadata": {
        "colab": {
          "base_uri": "https://localhost:8080/"
        },
        "id": "WRih_sIntfBz",
        "outputId": "fb47083a-9e10-4225-abe8-e763db779dc2"
      },
      "execution_count": 59,
      "outputs": [
        {
          "output_type": "stream",
          "name": "stdout",
          "text": [
            "Error: Cumulative cases data is empty or contains missing values.\n"
          ]
        }
      ]
    },
    {
      "cell_type": "code",
      "source": [
        "import pandas as pd\n",
        "\n",
        "# Load the dataset\n",
        "covid_data = pd.read_csv(\"/content/covid_data.csv\")\n",
        "\n",
        "# Calculate death rate (deaths per million)\n",
        "covid_data['death_rate'] = (covid_data['new_deaths'] / covid_data['population']) * 1_000_000\n",
        "\n",
        "# Sort the dataset by death rate in descending order\n",
        "sorted_data = covid_data.sort_values(by='death_rate', ascending=False)\n",
        "\n",
        "# Get the country with the 3rd highest death rate\n",
        "third_highest_country = sorted_data.iloc[2]['location']\n",
        "\n",
        "print(\"Country with the 3rd highest death rate:\", third_highest_country)\n"
      ],
      "metadata": {
        "colab": {
          "base_uri": "https://localhost:8080/"
        },
        "id": "3y2TpLdNuMCM",
        "outputId": "cdd00fa3-7426-4780-d02b-f53c7a9a7ba0"
      },
      "execution_count": 62,
      "outputs": [
        {
          "output_type": "stream",
          "name": "stdout",
          "text": [
            "Country with the 3rd highest death rate: San Marino\n"
          ]
        }
      ]
    },
    {
      "cell_type": "code",
      "source": [
        "import pandas as pd\n",
        "\n",
        "# Load the dataset containing country information\n",
        "country_data = pd.read_csv(\"/content/covid_data.csv\")\n",
        "\n",
        "# Ensure that the dataset contains the necessary columns\n",
        "required_columns = ['location', 'population', 'aged_65_older_patient', 'new_deaths', 'true_label']\n",
        "for column in required_columns:\n",
        "    country_data[column] = country_data.get(column, None)\n",
        "\n",
        "# Remove rows with missing values\n",
        "country_data.dropna(subset=required_columns, inplace=True)\n",
        "\n",
        "# Define a function to classify countries based on the given statement\n",
        "def classify_countries(row):\n",
        "    if row['aged_65_older_patient'] > 20 and row['new_deaths'] > (50 * row['population'] / 1000000):\n",
        "        return 1  # Classify as positive\n",
        "    else:\n",
        "        return 0  # Classify as negative\n",
        "\n",
        "# Apply the classification function to each row in the dataset\n",
        "country_data['predicted_label'] = country_data.apply(classify_countries, axis=1)\n",
        "\n",
        "# Calculate the F1 score, precision, and recall\n",
        "f1 = f1_score(country_data['true_label'], country_data['predicted_label'])\n",
        "precision = precision_score(country_data['true_label'], country_data['predicted_label'])\n",
        "recall = recall_score(country_data['true_label'], country_data['predicted_label'])\n",
        "\n",
        "print(\"F1 Score:\", f1)\n",
        "print(\"Precision:\", precision)\n",
        "print(\"Recall:\", recall)\n"
      ],
      "metadata": {
        "colab": {
          "base_uri": "https://localhost:8080/"
        },
        "id": "gyHLNhffvW6V",
        "outputId": "0e8d675d-a8e9-45d2-fef9-7714e9da05d3"
      },
      "execution_count": 65,
      "outputs": [
        {
          "output_type": "stream",
          "name": "stdout",
          "text": [
            "F1 Score: 0.0\n",
            "Precision: 0.0\n",
            "Recall: 0.0\n"
          ]
        },
        {
          "output_type": "stream",
          "name": "stderr",
          "text": [
            "/usr/local/lib/python3.10/dist-packages/sklearn/metrics/_classification.py:1609: UndefinedMetricWarning: F-score is ill-defined and being set to 0.0 due to no true nor predicted samples. Use `zero_division` parameter to control this behavior.\n",
            "  _warn_prf(average, \"true nor predicted\", \"F-score is\", len(true_sum))\n",
            "/usr/local/lib/python3.10/dist-packages/sklearn/metrics/_classification.py:1344: UndefinedMetricWarning: Precision is ill-defined and being set to 0.0 due to no predicted samples. Use `zero_division` parameter to control this behavior.\n",
            "  _warn_prf(average, modifier, msg_start, len(result))\n",
            "/usr/local/lib/python3.10/dist-packages/sklearn/metrics/_classification.py:1344: UndefinedMetricWarning: Recall is ill-defined and being set to 0.0 due to no true samples. Use `zero_division` parameter to control this behavior.\n",
            "  _warn_prf(average, modifier, msg_start, len(result))\n"
          ]
        }
      ]
    },
    {
      "cell_type": "code",
      "source": [
        "import pandas as pd\n",
        "\n",
        "# Load the dataset containing country information\n",
        "country_data = pd.read_csv(\"/content/covid_data.csv\")\n",
        "\n",
        "# Remove rows with missing values\n",
        "country_data.dropna(subset=['gdp_per_capita', 'hospital_beds_per_thousand'], inplace=True)\n",
        "\n",
        "# Filter the dataset to include only countries with at least 5 hospital beds per 1000 inhabitants\n",
        "filtered_data = country_data[country_data['hospital_beds_per_thousand'] >= 5]\n",
        "\n",
        "# Calculate the total number of countries with GDP over $10,000\n",
        "total_countries = len(filtered_data)\n",
        "\n",
        "# Calculate the number of countries with GDP over $10,000\n",
        "gdp_over_10000 = len(filtered_data[filtered_data['gdp_per_capita'] > 10000])\n",
        "\n",
        "# Calculate the probability\n",
        "probability = gdp_over_10000 / total_countries\n",
        "\n",
        "print(\"Probability that a country has GDP over $10,000 given they have at least 5 hospital beds per 1000 inhabitants:\", probability)\n"
      ],
      "metadata": {
        "colab": {
          "base_uri": "https://localhost:8080/"
        },
        "id": "-_NW6-8sv-Qj",
        "outputId": "fde81da3-72c6-4b13-ed6a-f0ea13b93b13"
      },
      "execution_count": 66,
      "outputs": [
        {
          "output_type": "stream",
          "name": "stdout",
          "text": [
            "Probability that a country has GDP over $10,000 given they have at least 5 hospital beds per 1000 inhabitants: 0.9193251533742332\n"
          ]
        }
      ]
    },
    {
      "cell_type": "code",
      "source": [
        "import pandas as pd\n",
        "\n",
        "# Load the dataset containing country information\n",
        "country_data = pd.read_csv(\"/content/covid_data.csv\")\n",
        "\n",
        "# Remove rows with missing values\n",
        "country_data.dropna(subset=['gdp_per_capita', 'hospital_beds_per_thousand'], inplace=True)\n",
        "\n",
        "# Filter the dataset to include only countries with at least 5 hospital beds per 1000 inhabitants\n",
        "filtered_data = country_data[country_data['hospital_beds_per_thousand'] >= 5]\n",
        "\n",
        "# Calculate the total number of countries with GDP over $10,000\n",
        "total_countries = len(filtered_data)\n",
        "\n",
        "# Calculate the number of countries with GDP over $10,000\n",
        "gdp_over_10000 = len(filtered_data[filtered_data['gdp_per_capita'] > 10000])\n",
        "\n",
        "# Calculate the probability\n",
        "probability = (gdp_over_10000 / total_countries) * 100\n",
        "\n",
        "print(\"Probability that a country has GDP over $10,000 given they have at least 5 hospital beds per 1000 inhabitants:\", probability, \"%\")\n"
      ],
      "metadata": {
        "colab": {
          "base_uri": "https://localhost:8080/"
        },
        "id": "Y3qE5rJiwKFA",
        "outputId": "14f8e43c-07a4-433d-ef2c-c77ec5727f72"
      },
      "execution_count": 67,
      "outputs": [
        {
          "output_type": "stream",
          "name": "stdout",
          "text": [
            "Probability that a country has GDP over $10,000 given they have at least 5 hospital beds per 1000 inhabitants: 91.93251533742331 %\n"
          ]
        }
      ]
    }
  ]
}